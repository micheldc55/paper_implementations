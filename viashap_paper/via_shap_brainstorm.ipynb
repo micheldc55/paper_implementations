{
 "cells": [
  {
   "cell_type": "code",
   "execution_count": 28,
   "metadata": {},
   "outputs": [],
   "source": [
    "import os\n",
    "from copy import deepcopy\n",
    "\n",
    "import numpy as np\n",
    "import openml\n",
    "import pandas as pd\n",
    "import torch\n",
    "import torch.nn as nn\n",
    "import torch.optim as optim\n",
    "from fastkan import FastKAN\n",
    "from sklearn.metrics import f1_score, precision_score, recall_score, roc_auc_score\n",
    "from sklearn.model_selection import train_test_split\n",
    "from sklearn.preprocessing import Normalizer, StandardScaler\n",
    "from torch.distributions.categorical import Categorical\n",
    "from torch.nn.parameter import Parameter\n",
    "from torch.utils.data import DataLoader, TensorDataset, Dataset\n",
    "from tqdm import tqdm\n",
    "\n",
    "from src.kans.ekan import KAN"
   ]
  },
  {
   "cell_type": "markdown",
   "metadata": {},
   "source": [
    "## Copying ShapleySampler class"
   ]
  },
  {
   "cell_type": "code",
   "execution_count": 29,
   "metadata": {},
   "outputs": [],
   "source": [
    "#I don't seem to be able to find the exact source for the fastshap.utils ShapleySampler class, so I'll just use one I got from here: https://github.com/iclr1814/fastshap/blob/master/fastshap_torch/fastshap.py\n",
    "# hope it's the same...\n",
    "\n",
    "class ShapleySampler:\n",
    "    '''\n",
    "    For sampling player subsets from the Shapley distribution.\n",
    "\n",
    "    Args:\n",
    "      num_players:\n",
    "    '''\n",
    "\n",
    "    def __init__(self, num_players):\n",
    "        arange = torch.arange(1, num_players)\n",
    "        w = 1 / (arange * (num_players - arange))\n",
    "        w = w / torch.sum(w)\n",
    "        self.categorical = Categorical(probs=w)\n",
    "        self.num_players = num_players\n",
    "        self.tril = torch.tril(\n",
    "            torch.ones(num_players - 1, num_players, dtype=torch.float32),\n",
    "            diagonal=0)\n",
    "\n",
    "    def sample(self, batch_size, paired_sampling):\n",
    "        '''\n",
    "        Generate sample.\n",
    "\n",
    "        Args:\n",
    "          batch_size:\n",
    "          paired_sampling:\n",
    "        '''\n",
    "        num_included = 1 + self.categorical.sample([batch_size])\n",
    "        S = self.tril[num_included - 1]\n",
    "        # TODO ideally avoid for loops\n",
    "        # TODO can't figure out how to shuffle rows independently\n",
    "        # TODO don't want to generate paired samples in parallel and force even num_samples\n",
    "        for i in range(batch_size):\n",
    "            if paired_sampling and i % 2 == 1:\n",
    "                S[i] = 1 - S[i - 1]\n",
    "            else:\n",
    "                S[i] = S[i, torch.randperm(self.num_players)]\n",
    "        return S\n",
    "\n",
    "\n",
    "def additive_efficient_normalization(pred, grand, null):\n",
    "    '''\n",
    "    Apply additive efficient normalization.\n",
    "\n",
    "    Args:\n",
    "      pred: \n",
    "      grand:\n",
    "      null:\n",
    "    '''\n",
    "    gap = (grand - null) - torch.sum(pred, dim=1)\n",
    "    return pred + gap.unsqueeze(1) / pred.shape[1]\n",
    "\n",
    "\n",
    "def calculate_grand_coalition(x, imputer, batch_size, link, device):\n",
    "    '''\n",
    "    Calculate the value of grand coalition for each x.\n",
    "\n",
    "    Args:\n",
    "      x:\n",
    "      imputer:\n",
    "      batch_size:\n",
    "      num_players:\n",
    "      link:\n",
    "      device:\n",
    "    '''\n",
    "    ones = torch.ones(batch_size, imputer.num_players, dtype=torch.float32,\n",
    "                      device=device)\n",
    "    with torch.no_grad():\n",
    "        grand = []\n",
    "        for i in range(int(np.ceil(len(x) / (batch_size)))):\n",
    "            start = i * batch_size\n",
    "            end = min(start + batch_size, len(x))\n",
    "            grand.append(link(\n",
    "                imputer(x[start:end].to(device), ones[:(end-start)])))\n",
    "\n",
    "        # Concatenate and return.\n",
    "        grand = torch.cat(grand)\n",
    "        if len(grand.shape) == 1:\n",
    "            grand = grand.reshape(-1, 1)\n",
    "\n",
    "    return grand\n",
    "\n",
    "\n",
    "def validate(val_loader, imputer, explainer, null, link, normalization):\n",
    "    '''\n",
    "    Calculate mean validation loss.\n",
    "\n",
    "    Args:\n",
    "      val_loader:\n",
    "      imputer:\n",
    "      explainer:\n",
    "      null:\n",
    "      link:\n",
    "      normalization:\n",
    "    '''\n",
    "    with torch.no_grad():\n",
    "        # Setup.\n",
    "        device = next(explainer.parameters()).device\n",
    "        mean_loss = 0\n",
    "        N = 0\n",
    "        loss_fn = nn.MSELoss()\n",
    "\n",
    "        for x, grand, S, values in val_loader:\n",
    "            # Move to device.\n",
    "            x = x.to(device)\n",
    "            S = S.to(device)\n",
    "            grand = grand.to(device)\n",
    "            values = values.to(device)\n",
    "\n",
    "            # Evaluate explainer.\n",
    "            pred = explainer(x)\n",
    "            pred = pred.reshape(len(x), imputer.num_players, -1)\n",
    "            if normalization:\n",
    "                pred = normalization(pred, grand, null)\n",
    "\n",
    "            # Evaluate loss.\n",
    "            approx = null + torch.matmul(S, pred)\n",
    "            loss = loss_fn(approx, values)\n",
    "\n",
    "            # Update average.\n",
    "            N += len(x)\n",
    "            mean_loss += (loss - mean_loss) / N\n",
    "\n",
    "    return mean_loss"
   ]
  },
  {
   "cell_type": "markdown",
   "metadata": {},
   "source": [
    "## Model Training"
   ]
  },
  {
   "cell_type": "code",
   "execution_count": 30,
   "metadata": {},
   "outputs": [],
   "source": [
    "class EarlyStopping:\n",
    "    def __init__(self, patience=20, min_delta=0):\n",
    "        self.patience = patience\n",
    "        self.min_delta = min_delta\n",
    "        self.best_loss = None\n",
    "        self.best_epoch = None\n",
    "        self.counter = 0\n",
    "\n",
    "    def __call__(self, val_loss, epoch):\n",
    "        if self.best_loss is None:\n",
    "            self.best_loss = val_loss\n",
    "            self.best_epoch = epoch\n",
    "            return False\n",
    "\n",
    "        if val_loss <= self.best_loss - self.min_delta:\n",
    "            self.best_loss = val_loss\n",
    "            self.best_epoch = epoch\n",
    "            self.counter = 0\n",
    "            return False\n",
    "        else:\n",
    "            self.counter += 1\n",
    "            if self.counter >= self.patience:\n",
    "                return True\n",
    "            return False\n",
    "\n",
    "\n",
    "class Embed(nn.Module):\n",
    "    def __init__(self, dataframe, categorical, numerical, emb_dim):\n",
    "        super(Embed, self).__init__()\n",
    "\n",
    "        self.categorical = categorical\n",
    "        self.numerical = numerical\n",
    "        self.emb_dim = emb_dim\n",
    "\n",
    "        # Create a dictionary to store embeddings for each categorical column\n",
    "        self.embedding_dict = nn.ModuleDict()\n",
    "\n",
    "        for col in self.categorical:\n",
    "            num_emb = dataframe[col].nunique()\n",
    "            self.embedding_dict[col] = nn.Embedding(num_emb + 1, emb_dim)\n",
    "\n",
    "        # Linear layer for numerical features\n",
    "        # self.fc_numerical = nn.Linear(1, emb_dim)\n",
    "\n",
    "    def forward(self, x):\n",
    "        if len(self.categorical) > 0:\n",
    "            if len(self.numerical) > 0:\n",
    "                numerical_x = x[:, :len(self.numerical)]\n",
    "                nominal_x = x[:, len(self.numerical):]\n",
    "\n",
    "                # List to store embeddings for each categorical column\n",
    "                embedded = [self.embedding_dict[col](nominal_x[:, i].long()) for i, col in\n",
    "                            enumerate(self.categorical)]\n",
    "                nominal_x = torch.cat(embedded, dim=1)\n",
    "\n",
    "                # Apply linear transformation to numerical features\n",
    "                # numerical_x = self.fc_numerical(numerical_x)\n",
    "\n",
    "                # Concatenate numerical and categorical embeddings\n",
    "                embedded_x = torch.cat([numerical_x, nominal_x], dim=1)\n",
    "            else:\n",
    "                nominal_x = x\n",
    "                # List to store embeddings for each categorical column\n",
    "                embedded = [self.embedding_dict[col](nominal_x[:, i].long()) for i, col in\n",
    "                            enumerate(self.categorical)]\n",
    "                embedded_x = torch.cat(embedded, dim=1)\n",
    "        else:\n",
    "            embedded_x = x  # self.fc_numerical(x)\n",
    "\n",
    "        return embedded_x\n",
    "\n",
    "\n",
    "class KANSHAP(nn.Module):\n",
    "    def __init__(self, num_features, num_classes, index_to_name, dataframe, categorical, numerical, link_func=False, add_bias=True, kan_type=\"ekan\"):\n",
    "        super(KANSHAP, self).__init__()\n",
    "\n",
    "        device = torch.device('cuda' if torch.cuda.is_available() else 'cpu')\n",
    "\n",
    "        self.embedding = Embed(dataframe, categorical, numerical, 32)\n",
    "\n",
    "        if kan_type == \"ekan\":\n",
    "            self.f1 = KAN([len(categorical) * 32 + len(numerical), 64, 128, 64, num_features * num_classes],\n",
    "                          grid_size=5, spline_order=3)\n",
    "        elif kan_type == \"fkan\":\n",
    "            self.f1 = FastKAN([len(categorical) * 32 + len(numerical), 64, 128, 64, num_features * num_classes],\n",
    "                           grid_num=6)\n",
    "\n",
    "        self.num_classes = num_classes\n",
    "        self.num_features = num_features\n",
    "\n",
    "        self.link_func = link_func\n",
    "        self.add_bias = add_bias\n",
    "\n",
    "        if add_bias:\n",
    "            self.delta = torch.nn.init.uniform_(Parameter(torch.FloatTensor(num_classes)), -0.1, 0.1)\n",
    "\n",
    "        self.O = torch.ones(self.num_features, 1, requires_grad=False).to(device)\n",
    "\n",
    "        if link_func:\n",
    "            self.sigmoid = nn.Sigmoid()\n",
    "            self.softmax = nn.Softmax(dim=1)\n",
    "\n",
    "        self.index_to_name = index_to_name\n",
    "\n",
    "    def kan_forward(self, x_in):\n",
    "\n",
    "        x = self.embedding(x_in)\n",
    "\n",
    "        x = self.f1(x)\n",
    "\n",
    "        return x\n",
    "\n",
    "    def predict_class(self, x):\n",
    "\n",
    "        if self.num_classes > 1:\n",
    "            x = x.view(x.size(0), self.num_classes, self.num_features) @ self.O\n",
    "\n",
    "            if self.add_bias:\n",
    "                x = torch.squeeze(x, 2) + self.delta\n",
    "            else:\n",
    "                x = torch.squeeze(x, 2)\n",
    "            if self.link_func:\n",
    "                x = self.softmax(x)\n",
    "        else:\n",
    "            if self.add_bias:\n",
    "                x = torch.mm(x.view(x.size(0), x.size(1)), self.O) + self.delta\n",
    "            else:\n",
    "                x = torch.mm(x.view(x.size(0), x.size(1)), self.O)\n",
    "            if self.link_func:\n",
    "                x = self.sigmoid(x)\n",
    "        return x\n",
    "\n",
    "    def forward(self, x_in):\n",
    "        x = self.kan_forward(x_in)\n",
    "\n",
    "        x = self.predict_class(x)\n",
    "\n",
    "        return x\n",
    "\n",
    "    def predict(self, x_in):\n",
    "        with torch.no_grad():\n",
    "            return self.forward(x_in)\n",
    "        \n",
    "    def get_shapley_values(self, x_in):\n",
    "\n",
    "        if self.num_classes > 1:\n",
    "            y = self.forward(x_in)\n",
    "            y = np.argmax(y[0].cpu().detach().numpy())\n",
    "\n",
    "            x = self.kan_forward(x_in)\n",
    "            x = x.view(x.size(0), self.num_classes, self.num_features)\n",
    "            x = x[:, y]\n",
    "        else:\n",
    "            x = self.kan_forward(x_in)\n",
    "            x = x.view(x.size(0), x.size(1))\n",
    "\n",
    "        return x.cpu().data.numpy()\n",
    "\n",
    "    def get_local_importance(self, x_in):\n",
    "\n",
    "        if self.num_classes > 1:\n",
    "            y = self.forward(x_in)\n",
    "            y = np.argmax(y[0].cpu().detach().numpy())\n",
    "\n",
    "            x = self.kan_forward(x_in)\n",
    "            x = x.view(x.size(0), self.num_classes, self.num_features)\n",
    "            x = x[:, y].reshape(-1)\n",
    "        else:\n",
    "            x = self.kan_forward(x_in)\n",
    "            x = x.view(x.size(0), x.size(1)).reshape(-1)\n",
    "\n",
    "        return x.cpu().data.numpy()\n",
    "\n",
    "    def plot_bars(self, normalized_instance, instance, num_f):\n",
    "        import matplotlib.pyplot as plt\n",
    "\n",
    "        local_importance = self.get_local_importance(normalized_instance)\n",
    "\n",
    "        original_values = instance.to_dict()\n",
    "\n",
    "        names = []\n",
    "        values = []\n",
    "        for i, v in enumerate(local_importance):\n",
    "            name = self.index_to_name[i]\n",
    "            names.append(name)\n",
    "            values.append(v)\n",
    "\n",
    "        feature_local_importance = {}\n",
    "        for i, v in enumerate(values):\n",
    "            feature_local_importance[self.index_to_name[i]] = v\n",
    "\n",
    "        feature_names = [f'{name} = {original_values[name]}' for name, val in sorted(feature_local_importance.items(),\n",
    "                                                                                     key=lambda item: abs(item[1]))]\n",
    "        feature_values = [val for name, val in sorted(feature_local_importance.items(),\n",
    "                                                      key=lambda item: abs(item[1]))]\n",
    "\n",
    "        plt.style.use('ggplot')\n",
    "        plt.rcParams.update({'font.size': 12, 'font.weight': 'bold'})\n",
    "\n",
    "        # if self.num_classes > 2:\n",
    "        #    center = 0\n",
    "        # else:\n",
    "        #   center = self.beta.item()\n",
    "        plt.barh(feature_names[-num_f:], feature_values[-num_f:], left=0,\n",
    "                 color=np.where(np.array(feature_values[-num_f:]) < 0, 'dodgerblue', '#f5054f'))\n",
    "\n",
    "        for index, v in enumerate(feature_values[-num_f:]):\n",
    "            if v > 0:\n",
    "                plt.text(v + 0, index, \"+{:.2f}\".format(v), ha='center')\n",
    "            else:\n",
    "                plt.text(v + 0, index, \"{:.2f}\".format(v), ha='left')\n",
    "\n",
    "        plt.xlabel('Importance')\n",
    "        plt.rcParams[\"figure.figsize\"] = (8, 8)\n",
    "\n",
    "        plt.show()\n",
    "\n",
    "\n",
    "def train_model(index_to_name, train_dataloader,\n",
    "                val_dataloader, data_name, num_classes,\n",
    "                dataframe, categorical, numerical,\n",
    "                kan_model=None, optimizer_train=None, current_epoch=1,\n",
    "                max_num_epochs=300, learning_rate=1e-03, num_samples=32,\n",
    "                alpha=0.5, beta=0.5,\n",
    "                link_func=False, add_bias=True,\n",
    "                efficiency_constraint=True, patience=20):\n",
    "    device = torch.device('cuda' if torch.cuda.is_available() else 'cpu')\n",
    "\n",
    "    num_features = len(index_to_name)\n",
    "\n",
    "    sampler = ShapleySampler(num_features)\n",
    "\n",
    "    if not os.path.exists(f'{data_name}'):\n",
    "        os.makedirs(f'{data_name}')\n",
    "\n",
    "    mse_loss = nn.MSELoss()\n",
    "    loss_function = nn.MSELoss()\n",
    "    softmax = nn.Softmax(dim=1)\n",
    "    if link_func and num_classes < 2:\n",
    "        loss_function = nn.BCELoss()\n",
    "\n",
    "    early_stopping = EarlyStopping(patience=patience)\n",
    "\n",
    "    if kan_model is None:\n",
    "        kan_model = KANSHAP(num_features, num_classes, index_to_name, dataframe, categorical,\n",
    "                            numerical, link_func, add_bias).to(device)\n",
    "    if optimizer_train is None:\n",
    "        optimizer_train = torch.optim.Adam(kan_model.parameters(), lr=learning_rate)\n",
    "\n",
    "    scheduler = torch.optim.lr_scheduler.ReduceLROnPlateau(\n",
    "        optimizer_train, factor=0.5, patience=patience // 3, min_lr=1e-6,\n",
    "        # verbose=True\n",
    "    )\n",
    "\n",
    "    best_val_loss = np.inf\n",
    "\n",
    "    for epoch in range(current_epoch, max_num_epochs + 1):\n",
    "        kan_model.train()\n",
    "\n",
    "        train_loss = 0\n",
    "        train_count = 0\n",
    "\n",
    "        train_labels = []\n",
    "\n",
    "        for i, data in enumerate(tqdm(train_dataloader)):\n",
    "            inputs, labels = data\n",
    "\n",
    "            inputs = inputs.to(device)\n",
    "            labels = labels.to(device)\n",
    "\n",
    "            optimizer_train.zero_grad()\n",
    "\n",
    "            outputs = kan_model(inputs)\n",
    "\n",
    "            if efficiency_constraint:\n",
    "                zeros = torch.zeros(1, num_features, dtype=torch.float32,\n",
    "                                    device=device)\n",
    "\n",
    "                null = kan_model(zeros)\n",
    "\n",
    "            S = sampler.sample(inputs.shape[0] * num_samples,\n",
    "                               paired_sampling=True)\n",
    "            S = S.reshape((inputs.shape[0] * num_samples, num_features)).to(device)\n",
    "\n",
    "            input_tiled = inputs.unsqueeze(1).repeat(\n",
    "                1, num_samples, *[1 for _ in range(len(inputs.shape) - 1)]\n",
    "            ).reshape(inputs.shape[0] * num_samples, *inputs.shape[1:]).to(device)\n",
    "\n",
    "            sampled_inputs = input_tiled * S\n",
    "\n",
    "            sampled_ouput = kan_model(sampled_inputs)\n",
    "\n",
    "            scores = kan_model.kan_forward(inputs)\n",
    "\n",
    "            if num_classes > 1:\n",
    "                scores_tiled = scores.unsqueeze(1).repeat(\n",
    "                    1, num_samples, *[1 for _ in range(len(inputs.shape) - 1)]\n",
    "                ).reshape(inputs.shape[0] * num_samples, num_classes, *inputs.shape[1:]).to(device)\n",
    "\n",
    "                S = S.unsqueeze(1)\n",
    "            else:\n",
    "                scores_tiled = scores.unsqueeze(1).repeat(\n",
    "                    1, num_samples, *[1 for _ in range(len(inputs.shape) - 1)]\n",
    "                ).reshape(inputs.shape[0] * num_samples, *inputs.shape[1:]).to(device)\n",
    "\n",
    "            sampled_scores = scores_tiled * S\n",
    "            if num_classes > 1:\n",
    "                sampled_scores = sampled_scores.view(sampled_scores.size(0), num_classes, num_features) @ kan_model.O\n",
    "                sampled_scores = torch.squeeze(sampled_scores, 2)\n",
    "                if link_func:\n",
    "                    sampled_scores = kan_model.softmax(sampled_scores)\n",
    "            else:\n",
    "                sampled_scores = torch.mm(sampled_scores.view(sampled_scores.size(0), sampled_scores.size(1)), kan_model.O)\n",
    "                if link_func:\n",
    "                    sampled_scores = kan_model.sigmoid(sampled_scores)\n",
    "\n",
    "            if efficiency_constraint:\n",
    "                sampled_scores_output = null + sampled_scores\n",
    "            else:\n",
    "                sampled_scores_output = sampled_scores\n",
    "\n",
    "            if num_classes > 1:\n",
    "\n",
    "                loss = alpha * loss_function(outputs, labels) + beta * mse_loss(sampled_scores_output,\n",
    "                                                                                     sampled_ouput)\n",
    "                preds = torch.max(outputs, dim=-1)[1]\n",
    "                train_count += torch.sum(preds == torch.max(labels, dim=-1)[1])\n",
    "            else:\n",
    "\n",
    "                loss = alpha * loss_function(outputs.reshape(-1), labels.float()) + \\\n",
    "                       beta * mse_loss(sampled_scores_output.reshape(-1), sampled_ouput.reshape(-1))\n",
    "                preds = (outputs.reshape(-1) > 0.5) * 1\n",
    "                train_count += torch.sum(preds == labels.data)\n",
    "\n",
    "            train_loss += loss.item()  # * output.shape[0]\n",
    "\n",
    "            loss.backward()\n",
    "            optimizer_train.step()\n",
    "            train_labels.extend(labels.tolist())\n",
    "\n",
    "            del inputs, labels, data, outputs, S, input_tiled, sampled_inputs, sampled_ouput, scores, scores_tiled, sampled_scores, sampled_scores_output\n",
    "\n",
    "            torch.cuda.empty_cache()\n",
    "\n",
    "        kan_model.eval()\n",
    "\n",
    "        val_count = 0\n",
    "        val_loss = 0.0\n",
    "\n",
    "        list_prediction = []\n",
    "        val_labels = []\n",
    "        list_prob_pred = []\n",
    "\n",
    "        bce_loss = []\n",
    "        int_loss = []\n",
    "        with torch.no_grad():\n",
    "            for i, data in enumerate(tqdm(val_dataloader)):\n",
    "                inputs, labels = data\n",
    "\n",
    "                inputs = inputs.to(device)\n",
    "                labels = labels.to(device)\n",
    "\n",
    "                if efficiency_constraint:\n",
    "                    zeros = torch.zeros(1, num_features, dtype=torch.float32,\n",
    "                                        device=device)\n",
    "\n",
    "                    null = kan_model(zeros)\n",
    "\n",
    "                S = sampler.sample(inputs.shape[0] * num_samples,\n",
    "                                   paired_sampling=True)\n",
    "                S = S.reshape((inputs.shape[0] * num_samples, num_features)).to(device)\n",
    "\n",
    "                input_tiled = inputs.unsqueeze(1).repeat(\n",
    "                    1, num_samples, *[1 for _ in range(len(inputs.shape) - 1)]\n",
    "                ).reshape(inputs.shape[0] * num_samples, *inputs.shape[1:]).to(device)\n",
    "\n",
    "                sampled_inputs = input_tiled * S\n",
    "\n",
    "                sampled_ouput = kan_model(sampled_inputs)\n",
    "\n",
    "                scores = kan_model.kan_forward(inputs)\n",
    "\n",
    "                if num_classes > 1:\n",
    "                    scores_tiled = scores.unsqueeze(1).repeat(\n",
    "                        1, num_samples, *[1 for _ in range(len(inputs.shape) - 1)]\n",
    "                    ).reshape(inputs.shape[0] * num_samples, num_classes, *inputs.shape[1:]).to(device)\n",
    "\n",
    "                    S = S.unsqueeze(1)\n",
    "                else:\n",
    "                    scores_tiled = scores.unsqueeze(1).repeat(\n",
    "                        1, num_samples, *[1 for _ in range(len(inputs.shape) - 1)]\n",
    "                    ).reshape(inputs.shape[0] * num_samples, *inputs.shape[1:]).to(device)\n",
    "\n",
    "                sampled_scores = scores_tiled * S\n",
    "                if num_classes > 1:\n",
    "                    sampled_scores = sampled_scores.view(sampled_scores.size(0), num_classes, num_features) @ kan_model.O\n",
    "                    sampled_scores = torch.squeeze(sampled_scores, 2)\n",
    "                    if link_func:\n",
    "                        sampled_scores = kan_model.softmax(sampled_scores)\n",
    "                else:\n",
    "                    sampled_scores = torch.mm(sampled_scores.view(sampled_scores.size(0), sampled_scores.size(1)), kan_model.O)\n",
    "                    if link_func:\n",
    "                        sampled_scores = kan_model.sigmoid(sampled_scores)\n",
    "\n",
    "                if efficiency_constraint:\n",
    "                    sampled_scores_output = null + sampled_scores\n",
    "                else:\n",
    "                    sampled_scores_output = sampled_scores\n",
    "\n",
    "                outputs = kan_model(inputs)\n",
    "\n",
    "                if num_classes > 1:\n",
    "                    if not link_func:\n",
    "                        outputs = softmax(outputs)\n",
    "                    bce_loss.append(alpha * mse_loss(outputs, labels))\n",
    "                    int_loss.append(beta * mse_loss(sampled_scores_output, sampled_ouput))\n",
    "\n",
    "                    val_loss += (alpha * mse_loss(outputs, labels) + beta * mse_loss(sampled_scores_output,\n",
    "                                                                                               sampled_ouput))\n",
    "                    preds = torch.max(outputs, dim=-1)[1]\n",
    "                    val_count += torch.sum(preds == torch.max(labels, dim=-1)[1])\n",
    "                    val_labels.extend(torch.max(labels, dim=-1)[1].tolist())\n",
    "                    list_prob_pred.extend(outputs.tolist())\n",
    "                else:\n",
    "                    bce_loss.append(alpha * loss_function(outputs.reshape(-1), labels.float()))\n",
    "                    int_loss.append(beta * mse_loss(sampled_scores_output.reshape(-1), sampled_ouput.reshape(-1)))\n",
    "\n",
    "                    val_loss += (alpha * loss_function(outputs.reshape(-1), labels.float()) + \\\n",
    "                                 beta * mse_loss(sampled_scores_output.reshape(-1), sampled_ouput.reshape(-1)))\n",
    "                    preds = (outputs.reshape(-1) > 0.5) * 1\n",
    "                    val_count += torch.sum(preds == labels.data)\n",
    "                    val_labels.extend(labels.tolist())\n",
    "\n",
    "                list_prediction.extend(preds.tolist())\n",
    "\n",
    "                del inputs, labels, outputs, preds, S, input_tiled, sampled_inputs, sampled_ouput, scores, scores_tiled, sampled_scores, sampled_scores_output\n",
    "                torch.cuda.empty_cache()\n",
    "\n",
    "        if num_classes > 2:\n",
    "            roc = roc_auc_score(\n",
    "                val_labels,\n",
    "                list_prob_pred,\n",
    "                multi_class=\"ovr\",\n",
    "                average=\"weighted\",\n",
    "            )\n",
    "        else:\n",
    "            roc = roc_auc_score(val_labels, list_prediction)\n",
    "\n",
    "        prec = precision_score(val_labels, list_prediction, average='macro')\n",
    "        recall = recall_score(val_labels, list_prediction, average='macro')\n",
    "        f_score = f1_score(val_labels, list_prediction, average='macro')\n",
    "\n",
    "        acc = \"{:.3f}\".format(val_count / len(val_labels))\n",
    "        f_roc = \"{:.6f}\".format(roc)\n",
    "\n",
    "        if val_loss <= best_val_loss:\n",
    "            best_val_loss = val_loss\n",
    "            f_roc = \"{:.3f}\".format(roc)\n",
    "            torch.save(kan_model.state_dict(), f'{data_name}/{data_name}.model')\n",
    "            torch.save(optimizer_train.state_dict(), f'{data_name}/{data_name}.optm')\n",
    "\n",
    "        print(f'Classification loss: {sum(bce_loss) / len(bce_loss)}')\n",
    "        print(f'interpretability loss: {sum(int_loss) / len(int_loss)}')\n",
    "\n",
    "        print('Acc at dev is : {}'.format(acc))\n",
    "        print('ROC is : {},  prec {},  recall {}, f-score {}'.format(f_roc, prec, recall, f_score))\n",
    "        print('Acc at epoch : {} is : {}, loss : {}'.format(epoch,\n",
    "                                                            train_count / len(train_labels), train_loss))\n",
    "\n",
    "        scheduler.step(val_loss)\n",
    "\n",
    "        if early_stopping(val_loss, epoch):\n",
    "            print(f'Early stopping at epoch {epoch + 1}')\n",
    "            print(f'Best validation result is at epoch: {early_stopping.best_epoch}')\n",
    "            break\n",
    "    kan_model.load_state_dict(torch.load(f'{data_name}/{data_name}.model'))\n",
    "    return kan_model"
   ]
  },
  {
   "cell_type": "markdown",
   "metadata": {},
   "source": [
    "## Dataset"
   ]
  },
  {
   "cell_type": "code",
   "execution_count": 31,
   "metadata": {},
   "outputs": [],
   "source": [
    "class Data(Dataset):\n",
    "\n",
    "    def __init__(self, data):\n",
    "        # Collect samples, both cat and dog and store pairs of (filepath, label) in a simple list.\n",
    "        self._samples = data\n",
    "\n",
    "    def __getitem__(self, index):\n",
    "        # Access the stored path and label for the correct index\n",
    "        example, label = self._samples[index]\n",
    "\n",
    "        return example, label\n",
    "\n",
    "    def __len__(self):\n",
    "        \"\"\"Total number of samples\"\"\"\n",
    "        return len(self._samples)\n",
    "\n",
    "    def get_sample_by_id(self, id_):\n",
    "        id_index = [path.stem for (path, _) in self._samples].index(id_)\n",
    "        return self[id_index]\n",
    "\n",
    "\n",
    "class BlackBoxWrapper():\n",
    "    def __init__(self, model,\n",
    "                 num_players,\n",
    "                 device):\n",
    "        self.model = model\n",
    "        self.num_players = num_players\n",
    "        # self.scaler = scaler\n",
    "        self.device = device\n",
    "\n",
    "    def __call__(self, x, S):\n",
    "        '''\n",
    "        Evaluate a black-box model.\n",
    "        Args:\n",
    "          x: input examples.\n",
    "          S: coalitions.\n",
    "        '''\n",
    "        # x = self.scaler.transform(x)\n",
    "        x = x * S\n",
    "\n",
    "        # x = self.scaler.inverse_transform(x)\n",
    "\n",
    "        x = torch.tensor(x, dtype=torch.float32, device=self.device)\n",
    "        x = x.reshape((x.shape[0], self.num_players))\n",
    "        values = self.model(x)\n",
    "\n",
    "        return values\n",
    "\n",
    "\n",
    "def transform_to_tensors(data, labels, num_features):\n",
    "    data_array = data.values  # Convert DataFrame to NumPy array\n",
    "    tensor_data = torch.FloatTensor(data_array).view(-1, num_features)\n",
    "    print(tensor_data.shape)\n",
    "\n",
    "    tensor_labels = torch.tensor(labels.values, dtype=torch.float)  # .view(-1, 1)\n",
    "    print(tensor_labels.shape)\n",
    "\n",
    "    list_of_tensors = list(zip(tensor_data, tensor_labels))\n",
    "    return list_of_tensors\n",
    "\n",
    "\n",
    "def name_index(data):\n",
    "    index_to_name = {i: n for i, n in enumerate(data.columns)}\n",
    "    name_to_index = {n: i for i, n in enumerate(data.columns)}\n",
    "\n",
    "    return index_to_name, name_to_index"
   ]
  },
  {
   "cell_type": "markdown",
   "metadata": {},
   "source": [
    "## Reproducing the training"
   ]
  },
  {
   "cell_type": "code",
   "execution_count": 32,
   "metadata": {},
   "outputs": [],
   "source": [
    "data_name = 'elevators'\n",
    "\n",
    "data = openml.datasets.get_dataset(846)\n",
    "\n",
    "X, y, categorical_indicator, attribute_names = data.get_data(\n",
    "    target=data.default_target_attribute, dataset_format=\"dataframe\"\n",
    ")"
   ]
  },
  {
   "cell_type": "code",
   "execution_count": 33,
   "metadata": {},
   "outputs": [],
   "source": [
    "nominal = [b for a, b in zip(categorical_indicator, attribute_names) if a]\n",
    "numerical = [b for a, b in zip(categorical_indicator, attribute_names) if not a]\n",
    "\n",
    "\n",
    "encoded_data = deepcopy(X)\n",
    "\n",
    "for col in nominal:\n",
    "    \n",
    "    mapping = {c: i+1 for i, c in enumerate(encoded_data[col].unique())}\n",
    "    encoded_data[col] = encoded_data[col].replace(mapping)\n",
    "    try:\n",
    "        encoded_data[col] = encoded_data[col].cat.add_categories([0])\n",
    "    except:\n",
    "        continue\n",
    "\n",
    "encoded_data = encoded_data[numerical + nominal]\n",
    "encoded_data.fillna(0, inplace=True)"
   ]
  },
  {
   "cell_type": "code",
   "execution_count": 34,
   "metadata": {},
   "outputs": [
    {
     "name": "stderr",
     "output_type": "stream",
     "text": [
      "/var/folders/yw/kn46bk214n1609lc032vh_kc0000gp/T/ipykernel_55362/311957160.py:3: FutureWarning: Downcasting behavior in `replace` is deprecated and will be removed in a future version. To retain the old behavior, explicitly call `result.infer_objects(copy=False)`. To opt-in to the future behavior, set `pd.set_option('future.no_silent_downcasting', True)`\n",
      "  y = y.replace(mapping)\n",
      "/var/folders/yw/kn46bk214n1609lc032vh_kc0000gp/T/ipykernel_55362/311957160.py:3: FutureWarning: The behavior of Series.replace (and DataFrame.replace) with CategoricalDtype is deprecated. In a future version, replace will only be used for cases that preserve the categories. To change the categories, use ser.cat.rename_categories instead.\n",
      "  y = y.replace(mapping)\n"
     ]
    }
   ],
   "source": [
    "mapping = {b: i for i, b in enumerate(y.unique())}\n",
    "\n",
    "y = y.replace(mapping)"
   ]
  },
  {
   "cell_type": "code",
   "execution_count": 35,
   "metadata": {},
   "outputs": [],
   "source": [
    "train_data, left_out, train_label, y_left_out = train_test_split(encoded_data, y, test_size=0.3, \n",
    "                                                                 stratify=y, random_state=42)\n",
    "test_data, dev_data, test_label, dev_label = train_test_split(left_out, y_left_out, test_size=0.5, \n",
    "                                                              stratify=y_left_out, random_state=42)"
   ]
  },
  {
   "cell_type": "code",
   "execution_count": 36,
   "metadata": {},
   "outputs": [],
   "source": [
    "ss = StandardScaler()\n",
    "\n",
    "ss.fit(train_data[numerical])\n",
    "\n",
    "train_data[numerical] = ss.transform(train_data[numerical])\n",
    "dev_data[numerical] = ss.transform(dev_data[numerical])\n",
    "test_data[numerical] = ss.transform(test_data[numerical])"
   ]
  },
  {
   "cell_type": "code",
   "execution_count": 37,
   "metadata": {},
   "outputs": [],
   "source": [
    "index_to_name, name_to_index = name_index(data=encoded_data)"
   ]
  },
  {
   "cell_type": "markdown",
   "metadata": {},
   "source": [
    "For later: Skip the oversampling garbage..."
   ]
  },
  {
   "cell_type": "code",
   "execution_count": 38,
   "metadata": {},
   "outputs": [],
   "source": [
    "from imblearn.over_sampling import RandomOverSampler\n",
    "\n",
    "oversample = RandomOverSampler(sampling_strategy='minority')\n",
    "X_over, y_over = oversample.fit_resample(train_data, train_label)"
   ]
  },
  {
   "cell_type": "code",
   "execution_count": 39,
   "metadata": {},
   "outputs": [
    {
     "name": "stdout",
     "output_type": "stream",
     "text": [
      "torch.Size([11619, 18])\n",
      "torch.Size([11619])\n",
      "torch.Size([2490, 18])\n",
      "torch.Size([2490])\n",
      "torch.Size([2490, 18])\n",
      "torch.Size([2490])\n"
     ]
    }
   ],
   "source": [
    "train = transform_to_tensors(train_data, train_label, len(index_to_name))\n",
    "\n",
    "test = transform_to_tensors(test_data, test_label, len(index_to_name))\n",
    "\n",
    "dev = transform_to_tensors(dev_data, dev_label, len(index_to_name))"
   ]
  },
  {
   "cell_type": "code",
   "execution_count": 40,
   "metadata": {},
   "outputs": [],
   "source": [
    "batch_size = 64\n",
    "\n",
    "train_dataset = Data(data=train)\n",
    "val_dataset = Data(data=dev)\n",
    "test_dataset = Data(data=test)\n",
    "\n",
    "train_dataloader = DataLoader(train_dataset, batch_size=batch_size, shuffle=True, drop_last=False)\n",
    "val_dataloader = DataLoader(val_dataset, batch_size=batch_size, shuffle=False, drop_last=False)\n",
    "test_dataloader = DataLoader(test_dataset, batch_size=batch_size, shuffle=False, drop_last=False)"
   ]
  },
  {
   "cell_type": "markdown",
   "metadata": {},
   "source": [
    "### Train KAN"
   ]
  },
  {
   "cell_type": "code",
   "execution_count": 41,
   "metadata": {},
   "outputs": [
    {
     "name": "stderr",
     "output_type": "stream",
     "text": [
      "100%|██████████| 182/182 [00:21<00:00,  8.44it/s]\n",
      "100%|██████████| 39/39 [00:02<00:00, 17.73it/s]\n"
     ]
    },
    {
     "name": "stdout",
     "output_type": "stream",
     "text": [
      "Classification loss: 0.15520820021629333\n",
      "interpretability loss: 0.010617698542773724\n",
      "Acc at dev is : 0.778\n",
      "ROC is : 0.717,  prec 0.7421208075413683,  recall 0.7170510537240196, f-score 0.7265670067410546\n",
      "Acc at epoch : 1 is : 0.7214906811714172, loss : 45.865989834070206\n"
     ]
    },
    {
     "name": "stderr",
     "output_type": "stream",
     "text": [
      "100%|██████████| 182/182 [00:21<00:00,  8.57it/s]\n",
      "100%|██████████| 39/39 [00:02<00:00, 17.54it/s]\n"
     ]
    },
    {
     "name": "stdout",
     "output_type": "stream",
     "text": [
      "Classification loss: 0.14365532994270325\n",
      "interpretability loss: 0.010438431985676289\n",
      "Acc at dev is : 0.798\n",
      "ROC is : 0.740,  prec 0.7692511019933732,  recall 0.7401403454156525, f-score 0.7512499393040141\n",
      "Acc at epoch : 2 is : 0.7955934405326843, loss : 33.44133558124304\n"
     ]
    },
    {
     "name": "stderr",
     "output_type": "stream",
     "text": [
      "100%|██████████| 182/182 [00:21<00:00,  8.54it/s]\n",
      "100%|██████████| 39/39 [00:02<00:00, 17.21it/s]\n"
     ]
    },
    {
     "name": "stdout",
     "output_type": "stream",
     "text": [
      "Classification loss: 0.13381192088127136\n",
      "interpretability loss: 0.009578347206115723\n",
      "Acc at dev is : 0.814\n",
      "ROC is : 0.750,  prec 0.7961463160919592,  recall 0.749963164428701, f-score 0.7659042958448103\n",
      "Acc at epoch : 3 is : 0.816421389579773, loss : 27.348760068416595\n"
     ]
    },
    {
     "name": "stderr",
     "output_type": "stream",
     "text": [
      "100%|██████████| 182/182 [00:21<00:00,  8.59it/s]\n",
      "100%|██████████| 39/39 [00:02<00:00, 17.85it/s]\n"
     ]
    },
    {
     "name": "stdout",
     "output_type": "stream",
     "text": [
      "Classification loss: 0.12637728452682495\n",
      "interpretability loss: 0.00884275883436203\n",
      "Acc at dev is : 0.824\n",
      "ROC is : 0.754,  prec 0.817920925615827,  recall 0.753629720525687, f-score 0.7737803216135186\n",
      "Acc at epoch : 4 is : 0.828900933265686, loss : 25.48620830476284\n"
     ]
    },
    {
     "name": "stderr",
     "output_type": "stream",
     "text": [
      "100%|██████████| 182/182 [00:21<00:00,  8.56it/s]\n",
      "100%|██████████| 39/39 [00:02<00:00, 17.62it/s]\n"
     ]
    },
    {
     "name": "stdout",
     "output_type": "stream",
     "text": [
      "Classification loss: 0.11865201592445374\n",
      "interpretability loss: 0.010805967263877392\n",
      "Acc at dev is : 0.837\n",
      "ROC is : 0.763,  prec 0.8418009707594072,  recall 0.7630649159884514, f-score 0.7865598163466248\n",
      "Acc at epoch : 5 is : 0.8384542465209961, loss : 23.737158246338367\n"
     ]
    },
    {
     "name": "stderr",
     "output_type": "stream",
     "text": [
      "100%|██████████| 182/182 [00:21<00:00,  8.52it/s]\n",
      "100%|██████████| 39/39 [00:02<00:00, 18.38it/s]\n"
     ]
    },
    {
     "name": "stdout",
     "output_type": "stream",
     "text": [
      "Classification loss: 0.11469003558158875\n",
      "interpretability loss: 0.011847490444779396\n",
      "Acc at dev is : 0.851\n",
      "ROC is : 0.776,  prec 0.8695526695526696,  recall 0.7757510867438036, f-score 0.8027942799525827\n",
      "Acc at epoch : 6 is : 0.8468887209892273, loss : 22.54308844357729\n"
     ]
    },
    {
     "name": "stderr",
     "output_type": "stream",
     "text": [
      "100%|██████████| 182/182 [00:21<00:00,  8.58it/s]\n",
      "100%|██████████| 39/39 [00:02<00:00, 17.90it/s]\n"
     ]
    },
    {
     "name": "stdout",
     "output_type": "stream",
     "text": [
      "Classification loss: 0.11138609051704407\n",
      "interpretability loss: 0.01247688103467226\n",
      "Acc at dev is : 0.857\n",
      "ROC is : 0.795,  prec 0.8627281215358633,  recall 0.7947170612543437, f-score 0.8174741243579485\n",
      "Acc at epoch : 7 is : 0.8548928499221802, loss : 21.785670928657055\n"
     ]
    },
    {
     "name": "stderr",
     "output_type": "stream",
     "text": [
      "100%|██████████| 182/182 [00:21<00:00,  8.42it/s]\n",
      "100%|██████████| 39/39 [00:02<00:00, 17.83it/s]\n"
     ]
    },
    {
     "name": "stdout",
     "output_type": "stream",
     "text": [
      "Classification loss: 0.10559358447790146\n",
      "interpretability loss: 0.01212293840944767\n",
      "Acc at dev is : 0.860\n",
      "ROC is : 0.788,  prec 0.8819923939003123,  recall 0.7884784377788642, f-score 0.8162819808267692\n",
      "Acc at epoch : 8 is : 0.8598846793174744, loss : 21.129138953983784\n"
     ]
    },
    {
     "name": "stderr",
     "output_type": "stream",
     "text": [
      "100%|██████████| 182/182 [00:21<00:00,  8.61it/s]\n",
      "100%|██████████| 39/39 [00:02<00:00, 19.32it/s]\n"
     ]
    },
    {
     "name": "stdout",
     "output_type": "stream",
     "text": [
      "Classification loss: 0.10516181588172913\n",
      "interpretability loss: 0.010576313361525536\n",
      "Acc at dev is : 0.869\n",
      "ROC is : 0.821,  prec 0.8641973190348526,  recall 0.8207660438747545, f-score 0.8376157558367028\n",
      "Acc at epoch : 9 is : 0.8632412552833557, loss : 20.804613158106804\n"
     ]
    },
    {
     "name": "stderr",
     "output_type": "stream",
     "text": [
      "100%|██████████| 182/182 [00:21<00:00,  8.57it/s]\n",
      "100%|██████████| 39/39 [00:02<00:00, 17.55it/s]\n"
     ]
    },
    {
     "name": "stdout",
     "output_type": "stream",
     "text": [
      "Classification loss: 0.09964903444051743\n",
      "interpretability loss: 0.00818308163434267\n",
      "Acc at dev is : 0.869\n",
      "ROC is : 0.808,  prec 0.8797821076890844,  recall 0.8081777235088017, f-score 0.8323039724460721\n",
      "Acc at epoch : 10 is : 0.8663396239280701, loss : 20.248227953910828\n"
     ]
    },
    {
     "name": "stderr",
     "output_type": "stream",
     "text": [
      "100%|██████████| 182/182 [00:21<00:00,  8.62it/s]\n",
      "100%|██████████| 39/39 [00:02<00:00, 18.05it/s]\n"
     ]
    },
    {
     "name": "stdout",
     "output_type": "stream",
     "text": [
      "Classification loss: 0.09945058822631836\n",
      "interpretability loss: 0.00773363932967186\n",
      "Acc at dev is : 0.869\n",
      "ROC is : 0.820,  prec 0.8664274626120945,  recall 0.8196179074524217, f-score 0.8374698111597034\n",
      "Acc at epoch : 11 is : 0.8714175224304199, loss : 19.858020678162575\n"
     ]
    },
    {
     "name": "stderr",
     "output_type": "stream",
     "text": [
      "100%|██████████| 182/182 [00:21<00:00,  8.56it/s]\n",
      "100%|██████████| 39/39 [00:02<00:00, 19.48it/s]\n"
     ]
    },
    {
     "name": "stdout",
     "output_type": "stream",
     "text": [
      "Classification loss: 0.0979972705245018\n",
      "interpretability loss: 0.009265297092497349\n",
      "Acc at dev is : 0.871\n",
      "ROC is : 0.807901,  prec 0.8854364413873732,  recall 0.8079011733735111, f-score 0.8333934555948612\n",
      "Acc at epoch : 12 is : 0.8736552000045776, loss : 19.47950328141451\n"
     ]
    },
    {
     "name": "stderr",
     "output_type": "stream",
     "text": [
      "100%|██████████| 182/182 [00:21<00:00,  8.61it/s]\n",
      "100%|██████████| 39/39 [00:02<00:00, 17.65it/s]\n"
     ]
    },
    {
     "name": "stdout",
     "output_type": "stream",
     "text": [
      "Classification loss: 0.09650629758834839\n",
      "interpretability loss: 0.011098809540271759\n",
      "Acc at dev is : 0.878\n",
      "ROC is : 0.825359,  prec 0.8827793240592006,  recall 0.8253593451655485, f-score 0.846387251213341\n",
      "Acc at epoch : 13 is : 0.8747740983963013, loss : 19.559564143419266\n"
     ]
    },
    {
     "name": "stderr",
     "output_type": "stream",
     "text": [
      "100%|██████████| 182/182 [00:21<00:00,  8.60it/s]\n",
      "100%|██████████| 39/39 [00:02<00:00, 18.54it/s]\n"
     ]
    },
    {
     "name": "stdout",
     "output_type": "stream",
     "text": [
      "Classification loss: 0.0976443663239479\n",
      "interpretability loss: 0.011226351372897625\n",
      "Acc at dev is : 0.877\n",
      "ROC is : 0.828084,  prec 0.8761339381003201,  recall 0.8280844218402069, f-score 0.8464714831570122\n",
      "Acc at epoch : 14 is : 0.8776142597198486, loss : 19.158796802163124\n"
     ]
    },
    {
     "name": "stderr",
     "output_type": "stream",
     "text": [
      "100%|██████████| 182/182 [00:21<00:00,  8.66it/s]\n",
      "100%|██████████| 39/39 [00:02<00:00, 18.10it/s]\n"
     ]
    },
    {
     "name": "stdout",
     "output_type": "stream",
     "text": [
      "Classification loss: 0.09863895177841187\n",
      "interpretability loss: 0.013150294311344624\n",
      "Acc at dev is : 0.872\n",
      "ROC is : 0.810862,  prec 0.8860792279344487,  recall 0.8108616199037515, f-score 0.8359437739354847\n",
      "Acc at epoch : 15 is : 0.881229043006897, loss : 19.023783057928085\n"
     ]
    },
    {
     "name": "stderr",
     "output_type": "stream",
     "text": [
      "100%|██████████| 182/182 [00:21<00:00,  8.59it/s]\n",
      "100%|██████████| 39/39 [00:02<00:00, 18.25it/s]\n"
     ]
    },
    {
     "name": "stdout",
     "output_type": "stream",
     "text": [
      "Classification loss: 0.09495090693235397\n",
      "interpretability loss: 0.010732777416706085\n",
      "Acc at dev is : 0.878\n",
      "ROC is : 0.828,  prec 0.8796462933329601,  recall 0.8278770092387391, f-score 0.8473595230106084\n",
      "Acc at epoch : 16 is : 0.8854462504386902, loss : 18.328312631696463\n"
     ]
    },
    {
     "name": "stderr",
     "output_type": "stream",
     "text": [
      "100%|██████████| 182/182 [00:21<00:00,  8.62it/s]\n",
      "100%|██████████| 39/39 [00:02<00:00, 18.50it/s]\n"
     ]
    },
    {
     "name": "stdout",
     "output_type": "stream",
     "text": [
      "Classification loss: 0.09625422954559326\n",
      "interpretability loss: 0.010275758802890778\n",
      "Acc at dev is : 0.876\n",
      "ROC is : 0.808081,  prec 0.9037730243612596,  recall 0.8080813843223275, f-score 0.8374570277584888\n",
      "Acc at epoch : 17 is : 0.8869954347610474, loss : 18.08679635822773\n"
     ]
    },
    {
     "name": "stderr",
     "output_type": "stream",
     "text": [
      "100%|██████████| 182/182 [00:21<00:00,  8.48it/s]\n",
      "100%|██████████| 39/39 [00:02<00:00, 17.71it/s]\n"
     ]
    },
    {
     "name": "stdout",
     "output_type": "stream",
     "text": [
      "Classification loss: 0.09391257911920547\n",
      "interpretability loss: 0.009726337157189846\n",
      "Acc at dev is : 0.882\n",
      "ROC is : 0.833,  prec 0.8850925780918493,  recall 0.8325806283430642, f-score 0.8523805913326278\n",
      "Acc at epoch : 18 is : 0.8872536420822144, loss : 18.066649567335844\n"
     ]
    },
    {
     "name": "stderr",
     "output_type": "stream",
     "text": [
      "100%|██████████| 182/182 [00:21<00:00,  8.55it/s]\n",
      "100%|██████████| 39/39 [00:02<00:00, 18.00it/s]\n"
     ]
    },
    {
     "name": "stdout",
     "output_type": "stream",
     "text": [
      "Classification loss: 0.09390001744031906\n",
      "interpretability loss: 0.00908935908228159\n",
      "Acc at dev is : 0.883\n",
      "ROC is : 0.828,  prec 0.8947747921410023,  recall 0.8280572201875553, f-score 0.8516549626153472\n",
      "Acc at epoch : 19 is : 0.8888888955116272, loss : 18.024989161640406\n"
     ]
    },
    {
     "name": "stderr",
     "output_type": "stream",
     "text": [
      "100%|██████████| 182/182 [00:21<00:00,  8.48it/s]\n",
      "100%|██████████| 39/39 [00:02<00:00, 19.23it/s]\n"
     ]
    },
    {
     "name": "stdout",
     "output_type": "stream",
     "text": [
      "Classification loss: 0.09386486560106277\n",
      "interpretability loss: 0.010814132168889046\n",
      "Acc at dev is : 0.880\n",
      "ROC is : 0.826881,  prec 0.8854646982248204,  recall 0.8268811265111085, f-score 0.8482694182645434\n",
      "Acc at epoch : 20 is : 0.8884585499763489, loss : 17.885905168950558\n"
     ]
    },
    {
     "name": "stderr",
     "output_type": "stream",
     "text": [
      "100%|██████████| 182/182 [00:21<00:00,  8.55it/s]\n",
      "100%|██████████| 39/39 [00:02<00:00, 18.88it/s]\n"
     ]
    },
    {
     "name": "stdout",
     "output_type": "stream",
     "text": [
      "Classification loss: 0.09229252487421036\n",
      "interpretability loss: 0.011241511441767216\n",
      "Acc at dev is : 0.884\n",
      "ROC is : 0.828569,  prec 0.8978270873492404,  recall 0.8285691401784276, f-score 0.852837966622587\n",
      "Acc at epoch : 21 is : 0.8899216651916504, loss : 17.7922049947083\n"
     ]
    },
    {
     "name": "stderr",
     "output_type": "stream",
     "text": [
      "100%|██████████| 182/182 [00:21<00:00,  8.47it/s]\n",
      "100%|██████████| 39/39 [00:02<00:00, 18.81it/s]\n"
     ]
    },
    {
     "name": "stdout",
     "output_type": "stream",
     "text": [
      "Classification loss: 0.0928955003619194\n",
      "interpretability loss: 0.009593049995601177\n",
      "Acc at dev is : 0.880\n",
      "ROC is : 0.828,  prec 0.8848456446709141,  recall 0.8282506541619662, f-score 0.8491207271290259\n",
      "Acc at epoch : 22 is : 0.8925897479057312, loss : 17.694197181612253\n"
     ]
    },
    {
     "name": "stderr",
     "output_type": "stream",
     "text": [
      "100%|██████████| 182/182 [00:21<00:00,  8.65it/s]\n",
      "100%|██████████| 39/39 [00:02<00:00, 18.41it/s]\n"
     ]
    },
    {
     "name": "stdout",
     "output_type": "stream",
     "text": [
      "Classification loss: 0.09254493564367294\n",
      "interpretability loss: 0.00995177123695612\n",
      "Acc at dev is : 0.878\n",
      "ROC is : 0.820033,  prec 0.8889386804581151,  recall 0.8200334882568199, f-score 0.8439296558314453\n",
      "Acc at epoch : 23 is : 0.8916429877281189, loss : 17.676918484270573\n"
     ]
    },
    {
     "name": "stderr",
     "output_type": "stream",
     "text": [
      "100%|██████████| 182/182 [00:21<00:00,  8.65it/s]\n",
      "100%|██████████| 39/39 [00:02<00:00, 18.09it/s]\n"
     ]
    },
    {
     "name": "stdout",
     "output_type": "stream",
     "text": [
      "Classification loss: 0.09308373928070068\n",
      "interpretability loss: 0.009846149012446404\n",
      "Acc at dev is : 0.885\n",
      "ROC is : 0.831737,  prec 0.8944258577814832,  recall 0.8317369993101358, f-score 0.8543750156653382\n",
      "Acc at epoch : 24 is : 0.8937085866928101, loss : 17.609872441738844\n"
     ]
    },
    {
     "name": "stderr",
     "output_type": "stream",
     "text": [
      "100%|██████████| 182/182 [00:21<00:00,  8.59it/s]\n",
      "100%|██████████| 39/39 [00:02<00:00, 17.70it/s]\n"
     ]
    },
    {
     "name": "stdout",
     "output_type": "stream",
     "text": [
      "Classification loss: 0.09291994571685791\n",
      "interpretability loss: 0.01129866298288107\n",
      "Acc at dev is : 0.885\n",
      "ROC is : 0.834974,  prec 0.8900495875330818,  recall 0.8349739959756666, f-score 0.8555701677001273\n",
      "Acc at epoch : 25 is : 0.8922454714775085, loss : 17.572796560823917\n"
     ]
    },
    {
     "name": "stderr",
     "output_type": "stream",
     "text": [
      "100%|██████████| 182/182 [00:21<00:00,  8.59it/s]\n",
      "100%|██████████| 39/39 [00:02<00:00, 18.01it/s]\n"
     ]
    },
    {
     "name": "stdout",
     "output_type": "stream",
     "text": [
      "Classification loss: 0.09243868291378021\n",
      "interpretability loss: 0.010820825584232807\n",
      "Acc at dev is : 0.884\n",
      "ROC is : 0.826909,  prec 0.8977910584990232,  recall 0.8269090837652225, f-score 0.851534737293997\n",
      "Acc at epoch : 26 is : 0.8944831490516663, loss : 17.531094916164875\n"
     ]
    },
    {
     "name": "stderr",
     "output_type": "stream",
     "text": [
      "100%|██████████| 182/182 [00:21<00:00,  8.51it/s]\n",
      "100%|██████████| 39/39 [00:02<00:00, 17.54it/s]\n"
     ]
    },
    {
     "name": "stdout",
     "output_type": "stream",
     "text": [
      "Classification loss: 0.09029001742601395\n",
      "interpretability loss: 0.009675401262938976\n",
      "Acc at dev is : 0.884\n",
      "ROC is : 0.834,  prec 0.888954192240554,  recall 0.8340332721548016, f-score 0.8545636880325324\n",
      "Acc at epoch : 27 is : 0.8974955081939697, loss : 17.132903032004833\n"
     ]
    },
    {
     "name": "stderr",
     "output_type": "stream",
     "text": [
      "100%|██████████| 182/182 [00:21<00:00,  8.57it/s]\n",
      "100%|██████████| 39/39 [00:02<00:00, 18.45it/s]\n"
     ]
    },
    {
     "name": "stdout",
     "output_type": "stream",
     "text": [
      "Classification loss: 0.09015251696109772\n",
      "interpretability loss: 0.010312269441783428\n",
      "Acc at dev is : 0.888\n",
      "ROC is : 0.836939,  prec 0.8968624512288896,  recall 0.8369385597782764, f-score 0.8589552770614881\n",
      "Acc at epoch : 28 is : 0.8979257941246033, loss : 17.05716948956251\n"
     ]
    },
    {
     "name": "stderr",
     "output_type": "stream",
     "text": [
      "100%|██████████| 182/182 [00:21<00:00,  8.31it/s]\n",
      "100%|██████████| 39/39 [00:02<00:00, 17.89it/s]\n"
     ]
    },
    {
     "name": "stdout",
     "output_type": "stream",
     "text": [
      "Classification loss: 0.09059760719537735\n",
      "interpretability loss: 0.01005176454782486\n",
      "Acc at dev is : 0.887\n",
      "ROC is : 0.840314,  prec 0.890154402694424,  recall 0.8403138315114522, f-score 0.8594738982642358\n",
      "Acc at epoch : 29 is : 0.8967208862304688, loss : 17.009890526533127\n"
     ]
    },
    {
     "name": "stderr",
     "output_type": "stream",
     "text": [
      "100%|██████████| 182/182 [00:21<00:00,  8.36it/s]\n",
      "100%|██████████| 39/39 [00:02<00:00, 17.33it/s]\n"
     ]
    },
    {
     "name": "stdout",
     "output_type": "stream",
     "text": [
      "Classification loss: 0.09016859531402588\n",
      "interpretability loss: 0.011688739992678165\n",
      "Acc at dev is : 0.885\n",
      "ROC is : 0.830229,  prec 0.8978743510120253,  recall 0.8302291965916329, f-score 0.854135311241089\n",
      "Acc at epoch : 30 is : 0.8976675868034363, loss : 16.99450332671404\n"
     ]
    },
    {
     "name": "stderr",
     "output_type": "stream",
     "text": [
      "100%|██████████| 182/182 [00:21<00:00,  8.40it/s]\n",
      "100%|██████████| 39/39 [00:02<00:00, 18.59it/s]\n"
     ]
    },
    {
     "name": "stdout",
     "output_type": "stream",
     "text": [
      "Classification loss: 0.09093919396400452\n",
      "interpretability loss: 0.010067419148981571\n",
      "Acc at dev is : 0.885\n",
      "ROC is : 0.832387,  prec 0.8947304663840097,  recall 0.8323871943686534, f-score 0.8549496048968511\n",
      "Acc at epoch : 31 is : 0.8993028402328491, loss : 17.00872301310301\n"
     ]
    },
    {
     "name": "stderr",
     "output_type": "stream",
     "text": [
      "100%|██████████| 182/182 [00:21<00:00,  8.37it/s]\n",
      "100%|██████████| 39/39 [00:02<00:00, 17.71it/s]\n"
     ]
    },
    {
     "name": "stdout",
     "output_type": "stream",
     "text": [
      "Classification loss: 0.08948889374732971\n",
      "interpretability loss: 0.00966530479490757\n",
      "Acc at dev is : 0.889\n",
      "ROC is : 0.837,  prec 0.8989838837743299,  recall 0.8371599510068011, f-score 0.8597086370525167\n",
      "Acc at epoch : 32 is : 0.8991307616233826, loss : 16.750230606645346\n"
     ]
    },
    {
     "name": "stderr",
     "output_type": "stream",
     "text": [
      "100%|██████████| 182/182 [00:21<00:00,  8.37it/s]\n",
      "100%|██████████| 39/39 [00:02<00:00, 17.90it/s]\n"
     ]
    },
    {
     "name": "stdout",
     "output_type": "stream",
     "text": [
      "Classification loss: 0.08962099999189377\n",
      "interpretability loss: 0.009957330301404\n",
      "Acc at dev is : 0.888\n",
      "ROC is : 0.831253,  prec 0.9040889445212051,  recall 0.8312530365733777, f-score 0.8565177019124388\n",
      "Acc at epoch : 33 is : 0.9013684391975403, loss : 16.66545633226633\n"
     ]
    },
    {
     "name": "stderr",
     "output_type": "stream",
     "text": [
      "100%|██████████| 182/182 [00:21<00:00,  8.46it/s]\n",
      "100%|██████████| 39/39 [00:02<00:00, 17.63it/s]\n"
     ]
    },
    {
     "name": "stdout",
     "output_type": "stream",
     "text": [
      "Classification loss: 0.08936723321676254\n",
      "interpretability loss: 0.009902951307594776\n",
      "Acc at dev is : 0.886\n",
      "ROC is : 0.834116,  prec 0.8935383618602797,  recall 0.8341163883156812, f-score 0.855922057213348\n",
      "Acc at epoch : 34 is : 0.9002496004104614, loss : 16.6487596295774\n"
     ]
    },
    {
     "name": "stderr",
     "output_type": "stream",
     "text": [
      "100%|██████████| 182/182 [00:21<00:00,  8.49it/s]\n",
      "100%|██████████| 39/39 [00:02<00:00, 17.61it/s]\n"
     ]
    },
    {
     "name": "stdout",
     "output_type": "stream",
     "text": [
      "Classification loss: 0.08936178684234619\n",
      "interpretability loss: 0.010570033453404903\n",
      "Acc at dev is : 0.886\n",
      "ROC is : 0.834338,  prec 0.8956442198330437,  recall 0.8343377795442061, f-score 0.8566698349670115\n",
      "Acc at epoch : 35 is : 0.9010241627693176, loss : 16.649120148271322\n"
     ]
    },
    {
     "name": "stderr",
     "output_type": "stream",
     "text": [
      "100%|██████████| 182/182 [00:21<00:00,  8.49it/s]\n",
      "100%|██████████| 39/39 [00:02<00:00, 18.00it/s]\n"
     ]
    },
    {
     "name": "stdout",
     "output_type": "stream",
     "text": [
      "Classification loss: 0.08884846419095993\n",
      "interpretability loss: 0.010418383404612541\n",
      "Acc at dev is : 0.887\n",
      "ROC is : 0.836786,  prec 0.8934986832452112,  recall 0.8367863060835741, f-score 0.8578932797109051\n",
      "Acc at epoch : 36 is : 0.901196300983429, loss : 16.600343894213438\n"
     ]
    },
    {
     "name": "stderr",
     "output_type": "stream",
     "text": [
      "100%|██████████| 182/182 [00:21<00:00,  8.48it/s]\n",
      "100%|██████████| 39/39 [00:02<00:00, 18.87it/s]\n"
     ]
    },
    {
     "name": "stdout",
     "output_type": "stream",
     "text": [
      "Classification loss: 0.08893346786499023\n",
      "interpretability loss: 0.010120716877281666\n",
      "Acc at dev is : 0.884\n",
      "ROC is : 0.835,  prec 0.8892711851447584,  recall 0.8346834672133192, f-score 0.8551324235744345\n",
      "Acc at epoch : 37 is : 0.9021430611610413, loss : 16.512870702892542\n"
     ]
    },
    {
     "name": "stderr",
     "output_type": "stream",
     "text": [
      "100%|██████████| 182/182 [00:21<00:00,  8.43it/s]\n",
      "100%|██████████| 39/39 [00:02<00:00, 17.94it/s]\n"
     ]
    },
    {
     "name": "stdout",
     "output_type": "stream",
     "text": [
      "Classification loss: 0.08888804912567139\n",
      "interpretability loss: 0.010201161727309227\n",
      "Acc at dev is : 0.887\n",
      "ROC is : 0.833549,  prec 0.8980019456708823,  recall 0.8335493094180433, f-score 0.8567125803489439\n",
      "Acc at epoch : 38 is : 0.9029176235198975, loss : 16.49313136935234\n"
     ]
    },
    {
     "name": "stderr",
     "output_type": "stream",
     "text": [
      "100%|██████████| 182/182 [00:21<00:00,  8.44it/s]\n",
      "100%|██████████| 39/39 [00:02<00:00, 18.59it/s]\n"
     ]
    },
    {
     "name": "stdout",
     "output_type": "stream",
     "text": [
      "Classification loss: 0.08883499354124069\n",
      "interpretability loss: 0.01008796039968729\n",
      "Acc at dev is : 0.887\n",
      "ROC is : 0.836,  prec 0.8939786093701472,  recall 0.8364266397874041, f-score 0.8577639746520163\n",
      "Acc at epoch : 39 is : 0.9021430611610413, loss : 16.494335420429707\n"
     ]
    },
    {
     "name": "stderr",
     "output_type": "stream",
     "text": [
      "100%|██████████| 182/182 [00:21<00:00,  8.48it/s]\n",
      "100%|██████████| 39/39 [00:02<00:00, 17.83it/s]\n"
     ]
    },
    {
     "name": "stdout",
     "output_type": "stream",
     "text": [
      "Classification loss: 0.08868461102247238\n",
      "interpretability loss: 0.010087854228913784\n",
      "Acc at dev is : 0.887\n",
      "ROC is : 0.835,  prec 0.8972667565319643,  recall 0.834918837068901, f-score 0.8575513424099759\n",
      "Acc at epoch : 40 is : 0.9027454853057861, loss : 16.486940942704678\n"
     ]
    },
    {
     "name": "stderr",
     "output_type": "stream",
     "text": [
      "100%|██████████| 182/182 [00:21<00:00,  8.49it/s]\n",
      "100%|██████████| 39/39 [00:02<00:00, 17.78it/s]\n"
     ]
    },
    {
     "name": "stdout",
     "output_type": "stream",
     "text": [
      "Classification loss: 0.08874481171369553\n",
      "interpretability loss: 0.010324525646865368\n",
      "Acc at dev is : 0.888\n",
      "ROC is : 0.837008,  prec 0.8955677257710473,  recall 0.837007697312099, f-score 0.8586438896530246\n",
      "Acc at epoch : 41 is : 0.9023151993751526, loss : 16.47050042822957\n"
     ]
    },
    {
     "name": "stderr",
     "output_type": "stream",
     "text": [
      "100%|██████████| 182/182 [00:21<00:00,  8.49it/s]\n",
      "100%|██████████| 39/39 [00:02<00:00, 17.69it/s]\n"
     ]
    },
    {
     "name": "stdout",
     "output_type": "stream",
     "text": [
      "Classification loss: 0.08880677819252014\n",
      "interpretability loss: 0.010343235917389393\n",
      "Acc at dev is : 0.886\n",
      "ROC is : 0.834476,  prec 0.8930496952648852,  recall 0.8344760546118513, f-score 0.8560539199926329\n",
      "Acc at epoch : 42 is : 0.9033479690551758, loss : 16.44364994391799\n"
     ]
    },
    {
     "name": "stderr",
     "output_type": "stream",
     "text": [
      "100%|██████████| 182/182 [00:21<00:00,  8.52it/s]\n",
      "100%|██████████| 39/39 [00:02<00:00, 17.70it/s]\n"
     ]
    },
    {
     "name": "stdout",
     "output_type": "stream",
     "text": [
      "Classification loss: 0.08885335922241211\n",
      "interpretability loss: 0.010527698323130608\n",
      "Acc at dev is : 0.884\n",
      "ROC is : 0.833604,  prec 0.8906736535291353,  recall 0.833604468324809, f-score 0.8547376762403569\n",
      "Acc at epoch : 43 is : 0.9032618999481201, loss : 16.405019655823708\n"
     ]
    },
    {
     "name": "stderr",
     "output_type": "stream",
     "text": [
      "100%|██████████| 182/182 [00:21<00:00,  8.51it/s]\n",
      "100%|██████████| 39/39 [00:02<00:00, 18.48it/s]\n"
     ]
    },
    {
     "name": "stdout",
     "output_type": "stream",
     "text": [
      "Classification loss: 0.08875054866075516\n",
      "interpretability loss: 0.01045137643814087\n",
      "Acc at dev is : 0.886\n",
      "ROC is : 0.835486,  prec 0.8928769574231432,  recall 0.835485915966539, f-score 0.8567552085147965\n",
      "Acc at epoch : 44 is : 0.9042946696281433, loss : 16.419136945158243\n"
     ]
    },
    {
     "name": "stderr",
     "output_type": "stream",
     "text": [
      "100%|██████████| 182/182 [00:21<00:00,  8.46it/s]\n",
      "100%|██████████| 39/39 [00:02<00:00, 17.67it/s]\n"
     ]
    },
    {
     "name": "stdout",
     "output_type": "stream",
     "text": [
      "Classification loss: 0.08869475871324539\n",
      "interpretability loss: 0.010244793258607388\n",
      "Acc at dev is : 0.887\n",
      "ROC is : 0.836717,  prec 0.894771904211817,  recall 0.8367171685497514, f-score 0.8582037602784491\n",
      "Acc at epoch : 45 is : 0.9039504528045654, loss : 16.35938248410821\n"
     ]
    },
    {
     "name": "stderr",
     "output_type": "stream",
     "text": [
      "100%|██████████| 182/182 [00:21<00:00,  8.36it/s]\n",
      "100%|██████████| 39/39 [00:02<00:00, 18.05it/s]\n"
     ]
    },
    {
     "name": "stdout",
     "output_type": "stream",
     "text": [
      "Classification loss: 0.08842720091342926\n",
      "interpretability loss: 0.010491513647139072\n",
      "Acc at dev is : 0.887\n",
      "ROC is : 0.836067,  prec 0.8944635373938494,  recall 0.8360669734912339, f-score 0.8576342031505463\n",
      "Acc at epoch : 46 is : 0.9044668078422546, loss : 16.30830791592598\n"
     ]
    },
    {
     "name": "stderr",
     "output_type": "stream",
     "text": [
      "100%|██████████| 182/182 [00:21<00:00,  8.37it/s]\n",
      "100%|██████████| 39/39 [00:02<00:00, 18.17it/s]\n"
     ]
    },
    {
     "name": "stdout",
     "output_type": "stream",
     "text": [
      "Classification loss: 0.08850077539682388\n",
      "interpretability loss: 0.01042733434587717\n",
      "Acc at dev is : 0.888\n",
      "ROC is : 0.837727,  prec 0.894597818150999,  recall 0.837727029904439, f-score 0.8589011287909696\n",
      "Acc at epoch : 47 is : 0.9045528769493103, loss : 16.337178703397512\n"
     ]
    },
    {
     "name": "stderr",
     "output_type": "stream",
     "text": [
      "100%|██████████| 182/182 [00:21<00:00,  8.41it/s]\n",
      "100%|██████████| 39/39 [00:02<00:00, 17.40it/s]\n"
     ]
    },
    {
     "name": "stdout",
     "output_type": "stream",
     "text": [
      "Classification loss: 0.0884607657790184\n",
      "interpretability loss: 0.010332610458135605\n",
      "Acc at dev is : 0.887\n",
      "ROC is : 0.837796,  prec 0.8933357734106651,  recall 0.8377961674382617, f-score 0.858589606702912\n",
      "Acc at epoch : 48 is : 0.904897153377533, loss : 16.31958159059286\n"
     ]
    },
    {
     "name": "stderr",
     "output_type": "stream",
     "text": [
      "100%|██████████| 182/182 [00:21<00:00,  8.35it/s]\n",
      "100%|██████████| 39/39 [00:02<00:00, 17.53it/s]\n"
     ]
    },
    {
     "name": "stdout",
     "output_type": "stream",
     "text": [
      "Classification loss: 0.08874167501926422\n",
      "interpretability loss: 0.010252541862428188\n",
      "Acc at dev is : 0.886\n",
      "ROC is : 0.837215,  prec 0.8917739987218473,  recall 0.8372151099135667, f-score 0.8577117286913385\n",
      "Acc at epoch : 49 is : 0.904380738735199, loss : 16.277213402092457\n"
     ]
    },
    {
     "name": "stderr",
     "output_type": "stream",
     "text": [
      "100%|██████████| 182/182 [00:21<00:00,  8.40it/s]\n",
      "100%|██████████| 39/39 [00:02<00:00, 17.65it/s]"
     ]
    },
    {
     "name": "stdout",
     "output_type": "stream",
     "text": [
      "Classification loss: 0.08849035948514938\n",
      "interpretability loss: 0.010697019286453724\n",
      "Acc at dev is : 0.886\n",
      "ROC is : 0.834407,  prec 0.8943392595087449,  recall 0.8344069170780287, f-score 0.8563617159571011\n",
      "Acc at epoch : 50 is : 0.9045528769493103, loss : 16.300560414791107\n",
      "Early stopping at epoch 51\n",
      "Best validation result is at epoch: 40\n"
     ]
    },
    {
     "name": "stderr",
     "output_type": "stream",
     "text": [
      "\n"
     ]
    }
   ],
   "source": [
    "torch.manual_seed(5)\n",
    "\n",
    "device = torch.device('cuda' if torch.cuda.is_available() else 'cpu')\n",
    "\n",
    "if os.path.isfile(f'{data_name}/{data_name}_kan.model'):\n",
    "    \n",
    "    print('Loading saved model')\n",
    "    kan_model = KANSHAP(len(index_to_name), 1, index_to_name, dataframe=encoded_data, \n",
    "            categorical=nominal, \n",
    "            numerical=numerical,).to(device)\n",
    "    kan_model.load_state_dict(torch.load(f'{data_name}/{data_name}_kan.model'))\n",
    "    \n",
    "else:\n",
    "    kan_model = train_model(index_to_name=index_to_name,\n",
    "                train_dataloader=train_dataloader,\n",
    "                val_dataloader=val_dataloader,\n",
    "                data_name=data_name,\n",
    "                num_classes=1,\n",
    "                dataframe=encoded_data, \n",
    "                categorical=nominal, \n",
    "                numerical=numerical,\n",
    "                kan_model=None, \n",
    "                optimizer_train=None, \n",
    "                current_epoch=1,\n",
    "                max_num_epochs=300,\n",
    "                learning_rate=1e-03,\n",
    "                num_samples=32,\n",
    "                alpha=1, beta=10,\n",
    "                patience=10)"
   ]
  },
  {
   "cell_type": "code",
   "execution_count": 42,
   "metadata": {},
   "outputs": [
    {
     "name": "stderr",
     "output_type": "stream",
     "text": [
      "100%|██████████| 39/39 [00:00<00:00, 204.10it/s]"
     ]
    },
    {
     "name": "stdout",
     "output_type": "stream",
     "text": [
      "AUC is : 0.9403050437934158,  prec 0.8967976822135433,  recall 0.8354651162790697, f-score 0.8578137221371775\n"
     ]
    },
    {
     "name": "stderr",
     "output_type": "stream",
     "text": [
      "\n"
     ]
    }
   ],
   "source": [
    "list_prediction = []\n",
    "list_pob_pred = []\n",
    "y_test = []\n",
    "\n",
    "for i, data in tqdm(list(enumerate(test_dataloader))):\n",
    "    inputs, labels = data\n",
    "\n",
    "    inputs = inputs.to(device)\n",
    "    labels = labels.to(device)\n",
    "\n",
    "    outputs = kan_model(inputs)\n",
    "    list_pob_pred.extend(outputs.tolist())\n",
    "\n",
    "    preds = (outputs.reshape(-1) > 0.5) * 1\n",
    "\n",
    "    list_prediction.extend(preds.tolist())\n",
    "\n",
    "    y_test.extend(labels.tolist())\n",
    "\n",
    "    torch.cuda.empty_cache()\n",
    "\n",
    "\n",
    "roc = roc_auc_score(y_test, list_pob_pred)\n",
    "prec = precision_score(y_test, list_prediction, average='macro')\n",
    "recall = recall_score(y_test, list_prediction, average='macro')\n",
    "f_score = f1_score(y_test, list_prediction, average='macro')\n",
    "\n",
    "print('AUC is : {},  prec {},  recall {}, f-score {}' .format(roc, prec, recall, f_score))"
   ]
  },
  {
   "cell_type": "markdown",
   "metadata": {},
   "source": [
    "## Explain a group of variables:"
   ]
  },
  {
   "cell_type": "code",
   "execution_count": 44,
   "metadata": {},
   "outputs": [
    {
     "data": {
      "image/png": "[encoded data removed]",
      "text/plain": [
       "<Figure size 800x800 with 1 Axes>"
      ]
     },
     "metadata": {},
     "output_type": "display_data"
    },
    {
     "data": {
      "text/plain": [
       "tensor([[0.2573]])"
      ]
     },
     "execution_count": 44,
     "metadata": {},
     "output_type": "execute_result"
    }
   ],
   "source": [
    "top_n = 10\n",
    "ind = np.random.choice(len(test))\n",
    "\n",
    "kan_model.plot_bars(test[ind][0].reshape(1, len(index_to_name)).to(device), test_data.iloc[0], top_n)\n",
    "kan_model.predict(test[ind][0].reshape(1, len(index_to_name)).to(device))"
   ]
  },
  {
   "cell_type": "code",
   "execution_count": 50,
   "metadata": {},
   "outputs": [
    {
     "data": {
      "text/plain": [
       "torch.Size([64, 18])"
      ]
     },
     "execution_count": 50,
     "metadata": {},
     "output_type": "execute_result"
    }
   ],
   "source": [
    "value = next(iter(test_dataloader))\n",
    "\n",
    "value[0].shape"
   ]
  },
  {
   "cell_type": "markdown",
   "metadata": {},
   "source": [
    "## Implementing it in a more abstract way"
   ]
  },
  {
   "cell_type": "code",
   "execution_count": 16,
   "metadata": {},
   "outputs": [],
   "source": [
    "from abc import ABC, abstractmethod\n",
    "\n",
    "class PhiModel(ABC):\n",
    "    \"\"\"\n",
    "    Any implementation must:\n",
    "      - provide a forward(x) → (y_raw, phi)  where y_raw = sum(phi)\n",
    "      - expose its parameters so we can backprop\n",
    "    \"\"\"\n",
    "    @abstractmethod\n",
    "    def forward(self, X):\n",
    "        \"\"\"\n",
    "        X: np.ndarray or Tensor, shape (batch, d)\n",
    "        returns:\n",
    "          y_raw: shape (batch, 1)\n",
    "          phi:   shape (batch, d)\n",
    "        \"\"\"\n",
    "        pass\n",
    "\n",
    "    @abstractmethod\n",
    "    def parameters(self):\n",
    "        \"\"\"Return an iterable of parameters to optimize.\"\"\"\n",
    "        pass\n",
    "\n",
    "class LossFunction(ABC):\n",
    "    \"\"\"A generic loss function that can look at (y, y_true, phi, model, ...)\"\"\"\n",
    "    @abstractmethod\n",
    "    def __call__(self, y_pred, y_true, phi, model, **kwargs):\n",
    "        \"\"\"Return a scalar loss in the backend's tensor type (with grad).\"\"\"\n",
    "        pass\n",
    "\n",
    "class Optimizer(ABC):\n",
    "    \"\"\"A minimal optimizer interface: zero_grad, step.\"\"\"\n",
    "    @abstractmethod\n",
    "    def zero_grad(self):\n",
    "        pass\n",
    "\n",
    "    @abstractmethod\n",
    "    def step(self):\n",
    "        pass\n"
   ]
  },
  {
   "cell_type": "code",
   "execution_count": 17,
   "metadata": {},
   "outputs": [],
   "source": [
    "import numpy as np\n",
    "from typing import Iterator, Tuple\n",
    "\n",
    "def iterate_minibatches(\n",
    "    X: np.ndarray,\n",
    "    y: np.ndarray,\n",
    "    batch_size: int = 32,\n",
    "    shuffle: bool = True\n",
    ") -> Iterator[Tuple[np.ndarray, np.ndarray]]:\n",
    "    \"\"\"\n",
    "    Yield successive (X_batch, y_batch) tuples from the dataset.\n",
    "\n",
    "    Parameters\n",
    "    ----------\n",
    "    X : np.ndarray, shape (n_samples, n_features)\n",
    "        Feature matrix.\n",
    "    y : np.ndarray, shape (n_samples,) or (n_samples, n_targets)\n",
    "        Target vector or matrix.\n",
    "    batch_size : int\n",
    "        Number of samples per batch.\n",
    "    shuffle : bool\n",
    "        Whether to shuffle the data before each epoch.\n",
    "\n",
    "    Yields\n",
    "    ------\n",
    "    X_batch : np.ndarray, shape (batch_size, n_features)\n",
    "    y_batch : np.ndarray, shape (batch_size,) or (batch_size, n_targets)\n",
    "    \"\"\"\n",
    "    n_samples = X.shape[0]\n",
    "    indices = np.arange(n_samples)\n",
    "    if shuffle:\n",
    "        np.random.shuffle(indices)\n",
    "\n",
    "    for start in range(0, n_samples, batch_size):\n",
    "        end = start + batch_size\n",
    "        batch_idx = indices[start:end]\n",
    "        yield X[batch_idx], y[batch_idx]\n"
   ]
  },
  {
   "cell_type": "code",
   "execution_count": 18,
   "metadata": {},
   "outputs": [],
   "source": [
    "class ViaSHAP:\n",
    "    def __init__(\n",
    "        self,\n",
    "        phi_model:      PhiModel,\n",
    "        optimizer:      Optimizer,\n",
    "        pred_loss:      LossFunction,\n",
    "        shap_loss:      LossFunction,\n",
    "        beta:           float = 1.0\n",
    "    ):\n",
    "        self.phi_model = phi_model\n",
    "        self.opt       = optimizer\n",
    "        self.pred_loss = pred_loss\n",
    "        self.shap_loss = shap_loss\n",
    "        self.beta      = beta\n",
    "\n",
    "    def fit(self, X, y, epochs=10, batch_size=32):\n",
    "        for epoch in range(epochs):\n",
    "            for Xb, yb in iterate_minibatches(X, y, batch_size):\n",
    "                self.opt.zero_grad()\n",
    "\n",
    "                y_pred, _, phi = self.phi_model.forward(Xb)\n",
    "\n",
    "                lp = self.pred_loss(y_pred, yb, phi, self.phi_model)\n",
    "                ls = self.shap_loss(y_pred, yb, phi, self.phi_model, X=Xb)\n",
    "\n",
    "                loss = lp + self.beta * ls\n",
    "\n",
    "                loss.backward()\n",
    "                self.opt.step()\n",
    "        return self\n"
   ]
  },
  {
   "cell_type": "code",
   "execution_count": 19,
   "metadata": {},
   "outputs": [],
   "source": [
    "import torch\n",
    "\n",
    "def sample_shapley_mask(batch_size: int, d: int, device=None) -> torch.Tensor:\n",
    "    \"\"\"\n",
    "    Returns a binary mask tensor M of shape (batch_size, d)\n",
    "    where each row M[i] indicates a random subset S_i:\n",
    "      - first sample k_i ~ Uniform({0,1,…,d})\n",
    "      - then choose k_i distinct feature indices at random\n",
    "    p(|S| = k) = 1/(d+1),  and  p(S | |S|=k) = 1/C(d, k)\n",
    "    \"\"\"\n",
    "    device = device or torch.device(\"cpu\")\n",
    "    # 1) sample sizes\n",
    "    sizes = torch.randint(low=0, high=d+1, size=(batch_size,), device=device)\n",
    "\n",
    "    # 2) build masks\n",
    "    mask = torch.zeros(batch_size, d, device=device, dtype=torch.float32)\n",
    "    for i, k in enumerate(sizes.tolist()):\n",
    "        if k > 0:\n",
    "            # pick k distinct indices out of d\n",
    "            idxs = torch.randperm(d, device=device)[:k]\n",
    "            mask[i, idxs] = 1.0\n",
    "    return mask\n"
   ]
  },
  {
   "cell_type": "code",
   "execution_count": 20,
   "metadata": {},
   "outputs": [],
   "source": [
    "import torch, torch.nn as nn, torch.nn.functional as F\n",
    "\n",
    "class TorchPhiModel(PhiModel, nn.Module):\n",
    "    def __init__(self, input_dim, hidden_dim, link=torch.sigmoid):\n",
    "        super().__init__()\n",
    "        self.net = nn.Sequential(\n",
    "            nn.Linear(input_dim, hidden_dim),\n",
    "            nn.ReLU(),\n",
    "            nn.Linear(hidden_dim, input_dim)\n",
    "        )\n",
    "        self.link = link\n",
    "\n",
    "    def forward(self, X):\n",
    "        phi = self.net(X)               # (batch, d)\n",
    "        y_raw = phi.sum(dim=1, keepdim=True)\n",
    "        y = self.link(y_raw)\n",
    "        return y, y_raw, phi\n",
    "\n",
    "    def parameters(self):\n",
    "        # PyTorch modules already implement this,\n",
    "        # so we can just defer to nn.Module.parameters:\n",
    "        return super().parameters()\n",
    "\n",
    "class MSELoss(LossFunction):\n",
    "    def __call__(self, y_pred, y_true, phi, model, **kwargs):\n",
    "        return F.mse_loss(y_pred, y_true)\n",
    "\n",
    "class ShapRegLoss(LossFunction):\n",
    "    def __init__(self, baseline, num_samples=5):\n",
    "        self.baseline = baseline\n",
    "        self.num_samples = num_samples\n",
    "\n",
    "    def __call__(self, X, phi, model_forward):\n",
    "        \"\"\"\n",
    "        X:    (batch, d)\n",
    "        phi:  (batch, d)         # model's phi(x)\n",
    "        model_forward: function  # returns y_raw when given X\n",
    "        \"\"\"\n",
    "        device = X.device if hasattr(X, \"device\") else None\n",
    "        baseline = self._get_baseline(X).to(device)\n",
    "\n",
    "        losses = []\n",
    "        for _ in range(self.num_samples):\n",
    "            M = sample_shapley_mask(X.shape[0], X.shape[1], device=device)\n",
    "            Xs = X * M + baseline * (1 - M)\n",
    "\n",
    "            yS_raw = model_forward(Xs)            # shape (batch, 1)\n",
    "            y0_raw = model_forward(baseline[None, :].expand_as(X))  # (batch, 1)\n",
    "            delta  = (yS_raw - y0_raw).squeeze(1)  # (batch,)\n",
    "\n",
    "            sum_phi_S = (phi * M).sum(dim=1)       # (batch,)\n",
    "            losses.append((sum_phi_S - delta).pow(2))\n",
    "\n",
    "        return torch.stack(losses).mean()\n",
    "\n"
   ]
  },
  {
   "cell_type": "code",
   "execution_count": null,
   "metadata": {},
   "outputs": [],
   "source": [
    "\n",
    "\n",
    "via_shap = ViaSHAP(\n",
    "    phi_model=TorchPhiModel(input_dim=X.shape[1], hidden_dim=100, link=torch.sigmoid),\n",
    "    optimizer=torch.optim.Adam(phi_model.parameters(), lr=0.01),\n",
    "    pred_loss=MSELoss(),\n",
    "    shap_loss=ShapRegLoss(baseline=torch.zeros(X.shape[1], device=X.device))\n",
    ")\n"
   ]
  }
 ],
 "metadata": {
  "kernelspec": {
   "display_name": ".venv",
   "language": "python",
   "name": "python3"
  },
  "language_info": {
   "codemirror_mode": {
    "name": "ipython",
    "version": 3
   },
   "file_extension": ".py",
   "mimetype": "text/x-python",
   "name": "python",
   "nbconvert_exporter": "python",
   "pygments_lexer": "ipython3",
   "version": "3.11.11"
  }
 },
 "nbformat": 4,
 "nbformat_minor": 2
}
