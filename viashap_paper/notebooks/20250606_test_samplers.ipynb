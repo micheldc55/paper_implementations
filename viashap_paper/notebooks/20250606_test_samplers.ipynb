{
 "cells": [
  {
   "cell_type": "code",
   "execution_count": 1,
   "metadata": {},
   "outputs": [],
   "source": [
    "import torch\n",
    "\n",
    "import sys\n",
    "if \"viashap_paper/src\" not in sys.path:\n",
    "    sys.path.append(\"viashap_paper/src\")\n",
    "\n",
    "from samplers.uniform_sampler import UniformFeatureSampler\n",
    "from samplers.kernel_shap_sampler import KernelShapSampler"
   ]
  },
  {
   "cell_type": "code",
   "execution_count": 2,
   "metadata": {},
   "outputs": [
    {
     "name": "stdout",
     "output_type": "stream",
     "text": [
      "Feature inclusion rates (should be close to 0.5):\n",
      "tensor([0.6667, 0.6667, 0.6667, 0.3333])\n",
      "\n",
      "Example of first few coalitions for first batch:\n",
      "\n",
      "Coalition 1:\n",
      "Mask:     [1. 1. 1. 0.]\n",
      "Values:   [ 1.  2.  3. 10.]\n",
      "Original: [1. 2. 3. 4.]\n",
      "\n",
      "Coalition 2:\n",
      "Mask:     [1. 1. 1. 1.]\n",
      "Values:   [1. 2. 3. 4.]\n",
      "Original: [1. 2. 3. 4.]\n",
      "\n",
      "Coalition 3:\n",
      "Mask:     [1. 1. 1. 0.]\n",
      "Values:   [ 1.  2.  3. 10.]\n",
      "Original: [1. 2. 3. 4.]\n"
     ]
    }
   ],
   "source": [
    "x = torch.tensor([\n",
    "    [1.0, 2.0, 3.0, 4.0],\n",
    "    [5.0, 6.0, 7.0, 8.0]\n",
    "])  # batch_size=2, n_features=4\n",
    "\n",
    "sampler = UniformFeatureSampler(baseline=10.0)\n",
    "\n",
    "n_coalitions = 3\n",
    "x_S, masks = sampler.sample(x, n_coalitions, random_seed=101)\n",
    "\n",
    "batch_size, n_features = x.shape\n",
    "assert x_S.shape == (batch_size * n_coalitions, n_features)\n",
    "assert masks.shape == (batch_size * n_coalitions, n_features)\n",
    "\n",
    "assert torch.all((masks == 0) | (masks == 1))\n",
    "\n",
    "feature_inclusion_rates = masks.float().mean(dim=0)\n",
    "print(\"Feature inclusion rates (should be close to 0.5):\")\n",
    "print(feature_inclusion_rates)\n",
    "\n",
    "for b in range(batch_size):\n",
    "    for c in range(n_coalitions):\n",
    "        idx = b * n_coalitions + c\n",
    "        for f in range(n_features):\n",
    "            if masks[idx, f] == 1:\n",
    "                assert x_S[idx, f] == x[b, f]\n",
    "            else:\n",
    "                assert x_S[idx, f] == sampler.baseline\n",
    "\n",
    "print(\"\\nExample of first few coalitions for first batch:\")\n",
    "for i in range(3):  \n",
    "    print(f\"\\nCoalition {i + 1}:\")\n",
    "    print(f\"Mask:     {masks[i].numpy()}\")\n",
    "    print(f\"Values:   {x_S[i].numpy()}\")\n",
    "    print(f\"Original: {x[0].numpy()}\")"
   ]
  },
  {
   "cell_type": "code",
   "execution_count": 3,
   "metadata": {},
   "outputs": [],
   "source": [
    "seed = 101"
   ]
  },
  {
   "cell_type": "code",
   "execution_count": 4,
   "metadata": {},
   "outputs": [],
   "source": [
    "x = torch.tensor([\n",
    "    [1.0, 2.0, 3.0, 4.0],\n",
    "    [5.0, 6.0, 7.0, 8.0]\n",
    "])  # batch_size=2, n_features=4\n",
    "\n",
    "n_features = x.shape[1]\n",
    "n_coalitions = 5\n",
    "\n",
    "orig = KernelShapSampler(n_features=n_features, baseline=10.0)\n",
    "x1, m1 = orig.sample(x, n_coalitions=n_coalitions, random_seed=seed)"
   ]
  },
  {
   "cell_type": "code",
   "execution_count": 5,
   "metadata": {},
   "outputs": [
    {
     "data": {
      "text/plain": [
       "4"
      ]
     },
     "execution_count": 5,
     "metadata": {},
     "output_type": "execute_result"
    }
   ],
   "source": [
    "x.shape[1]"
   ]
  },
  {
   "cell_type": "code",
   "execution_count": 6,
   "metadata": {},
   "outputs": [
    {
     "data": {
      "text/plain": [
       "tensor([[ 1.,  2., 10., 10.],\n",
       "        [ 1.,  2.,  3., 10.],\n",
       "        [10., 10., 10.,  4.],\n",
       "        [10., 10.,  3., 10.],\n",
       "        [ 1., 10.,  3., 10.],\n",
       "        [10.,  6.,  7.,  8.],\n",
       "        [ 5.,  6., 10.,  8.],\n",
       "        [ 5., 10., 10., 10.],\n",
       "        [ 5.,  6.,  7., 10.],\n",
       "        [10.,  6.,  7.,  8.]])"
      ]
     },
     "execution_count": 6,
     "metadata": {},
     "output_type": "execute_result"
    }
   ],
   "source": [
    "x1"
   ]
  },
  {
   "cell_type": "code",
   "execution_count": 7,
   "metadata": {},
   "outputs": [
    {
     "data": {
      "text/plain": [
       "tensor([[1., 1., 0., 0.],\n",
       "        [1., 1., 1., 0.],\n",
       "        [0., 0., 0., 1.],\n",
       "        [0., 0., 1., 0.],\n",
       "        [1., 0., 1., 0.],\n",
       "        [0., 1., 1., 1.],\n",
       "        [1., 1., 0., 1.],\n",
       "        [1., 0., 0., 0.],\n",
       "        [1., 1., 1., 0.],\n",
       "        [0., 1., 1., 1.]])"
      ]
     },
     "execution_count": 7,
     "metadata": {},
     "output_type": "execute_result"
    }
   ],
   "source": [
    "m1"
   ]
  },
  {
   "cell_type": "code",
   "execution_count": 8,
   "metadata": {},
   "outputs": [
    {
     "data": {
      "text/plain": [
       "torch.Size([2, 4])"
      ]
     },
     "execution_count": 8,
     "metadata": {},
     "output_type": "execute_result"
    }
   ],
   "source": [
    "x.shape"
   ]
  },
  {
   "cell_type": "code",
   "execution_count": 30,
   "metadata": {},
   "outputs": [
    {
     "data": {
      "text/plain": [
       "True"
      ]
     },
     "execution_count": 30,
     "metadata": {},
     "output_type": "execute_result"
    }
   ],
   "source": [
    "torch.allclose(x1, torch.tensor([\n",
    "    [10., 10., 10.,  4.],\n",
    "    [10., 10.,  3., 10.],\n",
    "    [10., 10.,  3., 10.],\n",
    "    [ 1., 10., 10., 10.],\n",
    "    [ 1.,  2., 10., 10.],\n",
    "    [10., 10.,  7.,  8.],\n",
    "    [ 5., 10.,  7.,  8.],\n",
    "    [ 5.,  6., 10.,  8.],\n",
    "    [10.,  6., 10., 10.],\n",
    "    [10., 10.,  7., 10.]\n",
    "]))"
   ]
  },
  {
   "cell_type": "code",
   "execution_count": null,
   "metadata": {},
   "outputs": [],
   "source": []
  }
 ],
 "metadata": {
  "kernelspec": {
   "display_name": ".venv",
   "language": "python",
   "name": "python3"
  },
  "language_info": {
   "codemirror_mode": {
    "name": "ipython",
    "version": 3
   },
   "file_extension": ".py",
   "mimetype": "text/x-python",
   "name": "python",
   "nbconvert_exporter": "python",
   "pygments_lexer": "ipython3",
   "version": "3.11.11"
  }
 },
 "nbformat": 4,
 "nbformat_minor": 2
}
